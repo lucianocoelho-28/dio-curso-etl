{
  "nbformat": 4,
  "nbformat_minor": 0,
  "metadata": {
    "colab": {
      "name": "projeto.ipynb",
      "provenance": [],
      "collapsed_sections": [],
      "authorship_tag": "ABX9TyOXowARjJcue5utLu6SIEfw",
      "include_colab_link": true
    },
    "kernelspec": {
      "name": "python3",
      "display_name": "Python 3"
    },
    "language_info": {
      "name": "python"
    }
  },
  "cells": [
    {
      "cell_type": "markdown",
      "metadata": {
        "id": "view-in-github",
        "colab_type": "text"
      },
      "source": [
        "<a href=\"https://colab.research.google.com/github/lucianocoelho-28/dio-curso-etl/blob/main/projeto.ipynb\" target=\"_parent\"><img src=\"https://colab.research.google.com/assets/colab-badge.svg\" alt=\"Open In Colab\"/></a>"
      ]
    },
    {
      "cell_type": "markdown",
      "metadata": {
        "id": "F6WVvKvlTK33"
      },
      "source": [
        "# Fundamentos de ETL com Python"
      ]
    },
    {
      "cell_type": "markdown",
      "metadata": {
        "id": "CylBw-C6Ucym"
      },
      "source": [
        "### Acessar os dados no link do CENIPA\n",
        "link: https://www2.fab.mil.br/cenipa/"
      ]
    },
    {
      "cell_type": "markdown",
      "metadata": {
        "id": "yvQj_uPyUel3"
      },
      "source": [
        "https://dados.gov.br/dataset/ocorrencias-aeronauticas-da-aviacao-civil-brasileira"
      ]
    },
    {
      "cell_type": "markdown",
      "metadata": {
        "id": "6dazMBVWXDUt"
      },
      "source": [
        "## 1. Etapa de realização de extração de dados"
      ]
    },
    {
      "cell_type": "code",
      "metadata": {
        "colab": {
          "base_uri": "https://localhost:8080/"
        },
        "id": "tkhRILx-a5qr",
        "outputId": "974ada79-5e8a-4168-8e28-87aa2c26dd5c"
      },
      "source": [
        "#Instalando a biblioteca pandera no Google Colab\n",
        "pip install pandera"
      ],
      "execution_count": null,
      "outputs": [
        {
          "output_type": "stream",
          "text": [
            "Collecting pandera\n",
            "\u001b[?25l  Downloading https://files.pythonhosted.org/packages/dc/bf/777cf247aabf5754d50cef88e32208579415f82a0dd77695114ac39b660f/pandera-0.6.4-py3-none-any.whl (78kB)\n",
            "\r\u001b[K     |████▏                           | 10kB 15.2MB/s eta 0:00:01\r\u001b[K     |████████▍                       | 20kB 8.0MB/s eta 0:00:01\r\u001b[K     |████████████▌                   | 30kB 5.5MB/s eta 0:00:01\r\u001b[K     |████████████████▊               | 40kB 5.3MB/s eta 0:00:01\r\u001b[K     |█████████████████████           | 51kB 2.7MB/s eta 0:00:01\r\u001b[K     |█████████████████████████       | 61kB 3.0MB/s eta 0:00:01\r\u001b[K     |█████████████████████████████▎  | 71kB 3.2MB/s eta 0:00:01\r\u001b[K     |████████████████████████████████| 81kB 2.7MB/s \n",
            "\u001b[?25hRequirement already satisfied: numpy>=1.9.0 in /usr/local/lib/python3.7/dist-packages (from pandera) (1.19.5)\n",
            "Requirement already satisfied: typing-extensions>=3.7.4.3; python_version < \"3.8\" in /usr/local/lib/python3.7/dist-packages (from pandera) (3.7.4.3)\n",
            "Collecting typing-inspect>=0.6.0\n",
            "  Downloading https://files.pythonhosted.org/packages/ad/fa/77565f652ce57ed56d3a63d537c885a18e4451cf2d56d944991aeb3c82bd/typing_inspect-0.7.1-py3-none-any.whl\n",
            "Requirement already satisfied: pandas>=0.25.3 in /usr/local/lib/python3.7/dist-packages (from pandera) (1.1.5)\n",
            "Requirement already satisfied: packaging>=20.0 in /usr/local/lib/python3.7/dist-packages (from pandera) (20.9)\n",
            "Requirement already satisfied: wrapt in /usr/local/lib/python3.7/dist-packages (from pandera) (1.12.1)\n",
            "Collecting mypy-extensions>=0.3.0\n",
            "  Downloading https://files.pythonhosted.org/packages/5c/eb/975c7c080f3223a5cdaff09612f3a5221e4ba534f7039db34c35d95fa6a5/mypy_extensions-0.4.3-py2.py3-none-any.whl\n",
            "Requirement already satisfied: python-dateutil>=2.7.3 in /usr/local/lib/python3.7/dist-packages (from pandas>=0.25.3->pandera) (2.8.1)\n",
            "Requirement already satisfied: pytz>=2017.2 in /usr/local/lib/python3.7/dist-packages (from pandas>=0.25.3->pandera) (2018.9)\n",
            "Requirement already satisfied: pyparsing>=2.0.2 in /usr/local/lib/python3.7/dist-packages (from packaging>=20.0->pandera) (2.4.7)\n",
            "Requirement already satisfied: six>=1.5 in /usr/local/lib/python3.7/dist-packages (from python-dateutil>=2.7.3->pandas>=0.25.3->pandera) (1.15.0)\n",
            "Installing collected packages: mypy-extensions, typing-inspect, pandera\n",
            "Successfully installed mypy-extensions-0.4.3 pandera-0.6.4 typing-inspect-0.7.1\n"
          ],
          "name": "stdout"
        }
      ]
    },
    {
      "cell_type": "code",
      "metadata": {
        "id": "RW2KnPUqSz9F"
      },
      "source": [
        "#Importando as bibliotecas\n",
        "import pandas as pd\n",
        "import pandera as pa"
      ],
      "execution_count": null,
      "outputs": []
    },
    {
      "cell_type": "code",
      "metadata": {
        "colab": {
          "base_uri": "https://localhost:8080/",
          "height": 396
        },
        "id": "UpRuxz7ETTco",
        "outputId": "d8c329ab-8bd5-4db8-baa5-aed2a0224a46"
      },
      "source": [
        "#Criando nosso DataFrame\n",
        "df = pd.read_csv(\"/content/ocorrencia_2010_2020.csv\", sep=\";\", parse_dates=['ocorrencia_dia'], dayfirst=True)\n",
        "df.head(10)"
      ],
      "execution_count": null,
      "outputs": [
        {
          "output_type": "execute_result",
          "data": {
            "text/html": [
              "<div>\n",
              "<style scoped>\n",
              "    .dataframe tbody tr th:only-of-type {\n",
              "        vertical-align: middle;\n",
              "    }\n",
              "\n",
              "    .dataframe tbody tr th {\n",
              "        vertical-align: top;\n",
              "    }\n",
              "\n",
              "    .dataframe thead th {\n",
              "        text-align: right;\n",
              "    }\n",
              "</style>\n",
              "<table border=\"1\" class=\"dataframe\">\n",
              "  <thead>\n",
              "    <tr style=\"text-align: right;\">\n",
              "      <th></th>\n",
              "      <th>codigo_ocorrencia</th>\n",
              "      <th>codigo_ocorrencia2</th>\n",
              "      <th>ocorrencia_classificacao</th>\n",
              "      <th>ocorrencia_cidade</th>\n",
              "      <th>ocorrencia_uf</th>\n",
              "      <th>ocorrencia_aerodromo</th>\n",
              "      <th>ocorrencia_dia</th>\n",
              "      <th>ocorrencia_hora</th>\n",
              "      <th>total_recomendacoes</th>\n",
              "    </tr>\n",
              "  </thead>\n",
              "  <tbody>\n",
              "    <tr>\n",
              "      <th>0</th>\n",
              "      <td>40211</td>\n",
              "      <td>40211</td>\n",
              "      <td>INCIDENTE</td>\n",
              "      <td>RIO DE JANEIRO</td>\n",
              "      <td>RJ</td>\n",
              "      <td>****</td>\n",
              "      <td>2010-01-03</td>\n",
              "      <td>12:00:00</td>\n",
              "      <td>0</td>\n",
              "    </tr>\n",
              "    <tr>\n",
              "      <th>1</th>\n",
              "      <td>40349</td>\n",
              "      <td>40349</td>\n",
              "      <td>INCIDENTE</td>\n",
              "      <td>BELÉM</td>\n",
              "      <td>PA</td>\n",
              "      <td>SBBE</td>\n",
              "      <td>2010-01-03</td>\n",
              "      <td>11:05:00</td>\n",
              "      <td>0</td>\n",
              "    </tr>\n",
              "    <tr>\n",
              "      <th>2</th>\n",
              "      <td>40351</td>\n",
              "      <td>40351</td>\n",
              "      <td>INCIDENTE</td>\n",
              "      <td>RIO DE JANEIRO</td>\n",
              "      <td>RJ</td>\n",
              "      <td>SBRJ</td>\n",
              "      <td>2010-01-03</td>\n",
              "      <td>03:00:00</td>\n",
              "      <td>0</td>\n",
              "    </tr>\n",
              "    <tr>\n",
              "      <th>3</th>\n",
              "      <td>39527</td>\n",
              "      <td>39527</td>\n",
              "      <td>ACIDENTE</td>\n",
              "      <td>LUCAS DO RIO VERDE</td>\n",
              "      <td>MT</td>\n",
              "      <td>****</td>\n",
              "      <td>2010-01-04</td>\n",
              "      <td>17:30:00</td>\n",
              "      <td>0</td>\n",
              "    </tr>\n",
              "    <tr>\n",
              "      <th>4</th>\n",
              "      <td>40324</td>\n",
              "      <td>40324</td>\n",
              "      <td>INCIDENTE</td>\n",
              "      <td>PELOTAS</td>\n",
              "      <td>RS</td>\n",
              "      <td>SBPK</td>\n",
              "      <td>2010-01-05</td>\n",
              "      <td>19:25:00</td>\n",
              "      <td>0</td>\n",
              "    </tr>\n",
              "    <tr>\n",
              "      <th>5</th>\n",
              "      <td>39807</td>\n",
              "      <td>39807</td>\n",
              "      <td>INCIDENTE</td>\n",
              "      <td>SALVADOR</td>\n",
              "      <td>BA</td>\n",
              "      <td>****</td>\n",
              "      <td>2010-01-06</td>\n",
              "      <td>17:53:00</td>\n",
              "      <td>0</td>\n",
              "    </tr>\n",
              "    <tr>\n",
              "      <th>6</th>\n",
              "      <td>40215</td>\n",
              "      <td>40215</td>\n",
              "      <td>INCIDENTE</td>\n",
              "      <td>COARI</td>\n",
              "      <td>AM</td>\n",
              "      <td>SBUY</td>\n",
              "      <td>2010-01-07</td>\n",
              "      <td>18:40:00</td>\n",
              "      <td>0</td>\n",
              "    </tr>\n",
              "    <tr>\n",
              "      <th>7</th>\n",
              "      <td>39707</td>\n",
              "      <td>39707</td>\n",
              "      <td>INCIDENTE GRAVE</td>\n",
              "      <td>CANUTAMA</td>\n",
              "      <td>AM</td>\n",
              "      <td>****</td>\n",
              "      <td>2010-01-09</td>\n",
              "      <td>12:30:00</td>\n",
              "      <td>3</td>\n",
              "    </tr>\n",
              "    <tr>\n",
              "      <th>8</th>\n",
              "      <td>39156</td>\n",
              "      <td>39156</td>\n",
              "      <td>INCIDENTE GRAVE</td>\n",
              "      <td>CASCAVEL</td>\n",
              "      <td>PR</td>\n",
              "      <td>SBCA</td>\n",
              "      <td>2010-01-10</td>\n",
              "      <td>23:15:00</td>\n",
              "      <td>2</td>\n",
              "    </tr>\n",
              "    <tr>\n",
              "      <th>9</th>\n",
              "      <td>39711</td>\n",
              "      <td>39711</td>\n",
              "      <td>INCIDENTE GRAVE</td>\n",
              "      <td>PARÁ DE MINAS</td>\n",
              "      <td>MG</td>\n",
              "      <td>****</td>\n",
              "      <td>2010-01-10</td>\n",
              "      <td>20:00:00</td>\n",
              "      <td>0</td>\n",
              "    </tr>\n",
              "  </tbody>\n",
              "</table>\n",
              "</div>"
            ],
            "text/plain": [
              "   codigo_ocorrencia  codigo_ocorrencia2  ... ocorrencia_hora total_recomendacoes\n",
              "0              40211               40211  ...        12:00:00                   0\n",
              "1              40349               40349  ...        11:05:00                   0\n",
              "2              40351               40351  ...        03:00:00                   0\n",
              "3              39527               39527  ...        17:30:00                   0\n",
              "4              40324               40324  ...        19:25:00                   0\n",
              "5              39807               39807  ...        17:53:00                   0\n",
              "6              40215               40215  ...        18:40:00                   0\n",
              "7              39707               39707  ...        12:30:00                   3\n",
              "8              39156               39156  ...        23:15:00                   2\n",
              "9              39711               39711  ...        20:00:00                   0\n",
              "\n",
              "[10 rows x 9 columns]"
            ]
          },
          "metadata": {
            "tags": []
          },
          "execution_count": 13
        }
      ]
    },
    {
      "cell_type": "markdown",
      "metadata": {
        "id": "ZtAylek4XUrn"
      },
      "source": [
        "## 2. Etapa de validação de dados"
      ]
    },
    {
      "cell_type": "code",
      "metadata": {
        "id": "C4Y4AalVXgcd"
      },
      "source": [
        "schema = pa.DataFrameSchema(\n",
        "    columns = {\n",
        "        \"codigo\":pa.Column(pa.Int, required=False),\n",
        "        \"codigo_ocorrencia\":pa.Column(pa.Int),\n",
        "        \"codigo_ocorrencia2\":pa.Column(pa.Int),\n",
        "        \"ocorrencia_classificacao\":pa.Column(pa.String),\n",
        "        \"ocorrencia_cidade\":pa.Column(pa.String),\n",
        "        \"ocorrencia_uf\":pa.Column(pa.String, pa.Check.str_length(2,3)),\n",
        "        \"ocorrencia_aerodromo\":pa.Column(pa.String),\n",
        "        \"ocorrencia_dia\":pa.Column(pa.DateTime),\n",
        "        \"ocorrencia_hora\": pa.Column(pa.String, pa.Check.str_matches(r'^([0-1]?[0-9]|[2][0-3]):([0-5][0-9])(:[0-5][0-9])?$'), nullable=True),\n",
        "        \"total_recomendacoes\":pa.Column(pa.Int)\n",
        "    }\n",
        ")"
      ],
      "execution_count": null,
      "outputs": []
    },
    {
      "cell_type": "code",
      "metadata": {
        "colab": {
          "base_uri": "https://localhost:8080/",
          "height": 473
        },
        "id": "FUjxwuKkcxIr",
        "outputId": "86d66505-6bfd-4c3f-9341-0c94f74ed8a3"
      },
      "source": [
        "schema.validate(df) "
      ],
      "execution_count": null,
      "outputs": [
        {
          "output_type": "execute_result",
          "data": {
            "text/html": [
              "<div>\n",
              "<style scoped>\n",
              "    .dataframe tbody tr th:only-of-type {\n",
              "        vertical-align: middle;\n",
              "    }\n",
              "\n",
              "    .dataframe tbody tr th {\n",
              "        vertical-align: top;\n",
              "    }\n",
              "\n",
              "    .dataframe thead th {\n",
              "        text-align: right;\n",
              "    }\n",
              "</style>\n",
              "<table border=\"1\" class=\"dataframe\">\n",
              "  <thead>\n",
              "    <tr style=\"text-align: right;\">\n",
              "      <th></th>\n",
              "      <th>codigo_ocorrencia</th>\n",
              "      <th>codigo_ocorrencia2</th>\n",
              "      <th>ocorrencia_classificacao</th>\n",
              "      <th>ocorrencia_cidade</th>\n",
              "      <th>ocorrencia_uf</th>\n",
              "      <th>ocorrencia_aerodromo</th>\n",
              "      <th>ocorrencia_dia</th>\n",
              "      <th>ocorrencia_hora</th>\n",
              "      <th>total_recomendacoes</th>\n",
              "    </tr>\n",
              "  </thead>\n",
              "  <tbody>\n",
              "    <tr>\n",
              "      <th>0</th>\n",
              "      <td>40211</td>\n",
              "      <td>40211</td>\n",
              "      <td>INCIDENTE</td>\n",
              "      <td>RIO DE JANEIRO</td>\n",
              "      <td>RJ</td>\n",
              "      <td>****</td>\n",
              "      <td>2010-01-03</td>\n",
              "      <td>12:00:00</td>\n",
              "      <td>0</td>\n",
              "    </tr>\n",
              "    <tr>\n",
              "      <th>1</th>\n",
              "      <td>40349</td>\n",
              "      <td>40349</td>\n",
              "      <td>INCIDENTE</td>\n",
              "      <td>BELÉM</td>\n",
              "      <td>PA</td>\n",
              "      <td>SBBE</td>\n",
              "      <td>2010-01-03</td>\n",
              "      <td>11:05:00</td>\n",
              "      <td>0</td>\n",
              "    </tr>\n",
              "    <tr>\n",
              "      <th>2</th>\n",
              "      <td>40351</td>\n",
              "      <td>40351</td>\n",
              "      <td>INCIDENTE</td>\n",
              "      <td>RIO DE JANEIRO</td>\n",
              "      <td>RJ</td>\n",
              "      <td>SBRJ</td>\n",
              "      <td>2010-01-03</td>\n",
              "      <td>03:00:00</td>\n",
              "      <td>0</td>\n",
              "    </tr>\n",
              "    <tr>\n",
              "      <th>3</th>\n",
              "      <td>39527</td>\n",
              "      <td>39527</td>\n",
              "      <td>ACIDENTE</td>\n",
              "      <td>LUCAS DO RIO VERDE</td>\n",
              "      <td>MT</td>\n",
              "      <td>****</td>\n",
              "      <td>2010-01-04</td>\n",
              "      <td>17:30:00</td>\n",
              "      <td>0</td>\n",
              "    </tr>\n",
              "    <tr>\n",
              "      <th>4</th>\n",
              "      <td>40324</td>\n",
              "      <td>40324</td>\n",
              "      <td>INCIDENTE</td>\n",
              "      <td>PELOTAS</td>\n",
              "      <td>RS</td>\n",
              "      <td>SBPK</td>\n",
              "      <td>2010-01-05</td>\n",
              "      <td>19:25:00</td>\n",
              "      <td>0</td>\n",
              "    </tr>\n",
              "    <tr>\n",
              "      <th>...</th>\n",
              "      <td>...</td>\n",
              "      <td>...</td>\n",
              "      <td>...</td>\n",
              "      <td>...</td>\n",
              "      <td>...</td>\n",
              "      <td>...</td>\n",
              "      <td>...</td>\n",
              "      <td>...</td>\n",
              "      <td>...</td>\n",
              "    </tr>\n",
              "    <tr>\n",
              "      <th>5747</th>\n",
              "      <td>79804</td>\n",
              "      <td>79804</td>\n",
              "      <td>INCIDENTE</td>\n",
              "      <td>CAMPINAS</td>\n",
              "      <td>SP</td>\n",
              "      <td>SBKP</td>\n",
              "      <td>2020-12-29</td>\n",
              "      <td>19:00:00</td>\n",
              "      <td>0</td>\n",
              "    </tr>\n",
              "    <tr>\n",
              "      <th>5748</th>\n",
              "      <td>79757</td>\n",
              "      <td>79757</td>\n",
              "      <td>INCIDENTE GRAVE</td>\n",
              "      <td>LAGOA DA CONFUSÃO</td>\n",
              "      <td>TO</td>\n",
              "      <td>****</td>\n",
              "      <td>2020-12-30</td>\n",
              "      <td>18:30:00</td>\n",
              "      <td>0</td>\n",
              "    </tr>\n",
              "    <tr>\n",
              "      <th>5749</th>\n",
              "      <td>79802</td>\n",
              "      <td>79802</td>\n",
              "      <td>INCIDENTE</td>\n",
              "      <td>RIO DE JANEIRO</td>\n",
              "      <td>RJ</td>\n",
              "      <td>SBGL</td>\n",
              "      <td>2020-12-30</td>\n",
              "      <td>00:54:00</td>\n",
              "      <td>0</td>\n",
              "    </tr>\n",
              "    <tr>\n",
              "      <th>5750</th>\n",
              "      <td>79756</td>\n",
              "      <td>79756</td>\n",
              "      <td>INCIDENTE GRAVE</td>\n",
              "      <td>VICENTINA</td>\n",
              "      <td>MS</td>\n",
              "      <td>****</td>\n",
              "      <td>2020-12-31</td>\n",
              "      <td>09:00:00</td>\n",
              "      <td>0</td>\n",
              "    </tr>\n",
              "    <tr>\n",
              "      <th>5751</th>\n",
              "      <td>79844</td>\n",
              "      <td>79844</td>\n",
              "      <td>INCIDENTE</td>\n",
              "      <td>RIO DE JANEIRO</td>\n",
              "      <td>RJ</td>\n",
              "      <td>SBJR</td>\n",
              "      <td>2020-12-31</td>\n",
              "      <td>13:24:00</td>\n",
              "      <td>0</td>\n",
              "    </tr>\n",
              "  </tbody>\n",
              "</table>\n",
              "<p>5752 rows × 9 columns</p>\n",
              "</div>"
            ],
            "text/plain": [
              "      codigo_ocorrencia  ...  total_recomendacoes\n",
              "0                 40211  ...                    0\n",
              "1                 40349  ...                    0\n",
              "2                 40351  ...                    0\n",
              "3                 39527  ...                    0\n",
              "4                 40324  ...                    0\n",
              "...                 ...  ...                  ...\n",
              "5747              79804  ...                    0\n",
              "5748              79757  ...                    0\n",
              "5749              79802  ...                    0\n",
              "5750              79756  ...                    0\n",
              "5751              79844  ...                    0\n",
              "\n",
              "[5752 rows x 9 columns]"
            ]
          },
          "metadata": {
            "tags": []
          },
          "execution_count": 52
        }
      ]
    },
    {
      "cell_type": "code",
      "metadata": {
        "colab": {
          "base_uri": "https://localhost:8080/"
        },
        "id": "OXzlF5pITHEx",
        "outputId": "cf87c0c7-fa7f-44c0-8bba-8f7a1c64ef29"
      },
      "source": [
        "#Visualizar o tipo de dados das colunas\n",
        "df.dtypes"
      ],
      "execution_count": null,
      "outputs": [
        {
          "output_type": "execute_result",
          "data": {
            "text/plain": [
              "codigo_ocorrencia                    int64\n",
              "codigo_ocorrencia2                   int64\n",
              "ocorrencia_classificacao            object\n",
              "ocorrencia_cidade                   object\n",
              "ocorrencia_uf                       object\n",
              "ocorrencia_aerodromo                object\n",
              "ocorrencia_dia              datetime64[ns]\n",
              "ocorrencia_hora                     object\n",
              "total_recomendacoes                  int64\n",
              "dtype: object"
            ]
          },
          "metadata": {
            "tags": []
          },
          "execution_count": 24
        }
      ]
    },
    {
      "cell_type": "code",
      "metadata": {
        "colab": {
          "base_uri": "https://localhost:8080/"
        },
        "id": "CmPEQ4pzV23p",
        "outputId": "f3657ef8-2aee-4f2e-caa0-a5d0db63166b"
      },
      "source": [
        " #Visualizar a coluna de data e validar campos\n",
        " df.ocorrencia_dia.dt.month"
      ],
      "execution_count": null,
      "outputs": [
        {
          "output_type": "execute_result",
          "data": {
            "text/plain": [
              "0        1\n",
              "1        1\n",
              "2        1\n",
              "3        1\n",
              "4        1\n",
              "        ..\n",
              "5747    12\n",
              "5748    12\n",
              "5749    12\n",
              "5750    12\n",
              "5751    12\n",
              "Name: ocorrencia_dia, Length: 5752, dtype: int64"
            ]
          },
          "metadata": {
            "tags": []
          },
          "execution_count": 25
        }
      ]
    }
  ]
}